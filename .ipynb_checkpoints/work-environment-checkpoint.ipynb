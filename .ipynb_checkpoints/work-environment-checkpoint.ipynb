{
 "cells": [
  {
   "cell_type": "code",
   "execution_count": 1,
   "id": "848365fe",
   "metadata": {},
   "outputs": [],
   "source": [
    "import pandas as pd\n",
    "\n",
    "data = pd.read_csv('data/twitch_data.csv')"
   ]
  },
  {
   "cell_type": "code",
   "execution_count": 2,
   "id": "12bfc1ac",
   "metadata": {},
   "outputs": [],
   "source": [
    "known_streamers = list(data['lower_handles']) + list(data['lower_channel'])"
   ]
  },
  {
   "cell_type": "code",
   "execution_count": 3,
   "id": "5ac3490c",
   "metadata": {},
   "outputs": [],
   "source": [
    "items = \"<datalist id='items'>\""
   ]
  },
  {
   "cell_type": "code",
   "execution_count": 4,
   "id": "134a4261",
   "metadata": {},
   "outputs": [],
   "source": [
    "for streamer in known_streamers:\n",
    "    include_option = \"<option value='\" + streamer + \"'>\"\n",
    "    items += include_option"
   ]
  },
  {
   "cell_type": "code",
   "execution_count": 5,
   "id": "d21a48af",
   "metadata": {},
   "outputs": [],
   "source": [
    "items += \"</datalist>\""
   ]
  },
  {
   "cell_type": "code",
   "execution_count": 6,
   "id": "704fdf3b",
   "metadata": {},
   "outputs": [],
   "source": [
    "session = {}\n",
    "session[\"inputs\"] = []"
   ]
  },
  {
   "cell_type": "code",
   "execution_count": 7,
   "id": "74edcbf2",
   "metadata": {},
   "outputs": [],
   "source": [
    "inputs = [\"XQC\", \"Summit1g\"]\n",
    "\n",
    "for streamer in inputs:\n",
    "    session[\"inputs\"].append(streamer)"
   ]
  },
  {
   "cell_type": "code",
   "execution_count": 9,
   "id": "19fd7a4e",
   "metadata": {},
   "outputs": [],
   "source": [
    "from processing import calculate_mode"
   ]
  },
  {
   "cell_type": "code",
   "execution_count": 10,
   "id": "5aa631b0",
   "metadata": {},
   "outputs": [
    {
     "data": {
      "text/plain": [
       "[['shroud',\n",
       "  'http://pbs.twimg.com/profile_images/986674209106550784/mbmmyb6Z.jpg',\n",
       "  'shroud'],\n",
       " ['REALMizkif',\n",
       "  'http://pbs.twimg.com/profile_images/1386897439899127811/X92asQNU.jpg',\n",
       "  'Mizkif'],\n",
       " ['Trainwreckstv',\n",
       "  'http://pbs.twimg.com/profile_images/1385522385902653441/oj3QPVTF.jpg',\n",
       "  'Trainwreckstv'],\n",
       " ['Asmongold',\n",
       "  'http://pbs.twimg.com/profile_images/804591156491419649/BnUUh5KE.jpg',\n",
       "  'Asmongold'],\n",
       " ['Greekgodx',\n",
       "  'http://pbs.twimg.com/profile_images/1437132459884351495/6ZLcAiB3.jpg',\n",
       "  'Greekgodx']]"
      ]
     },
     "execution_count": 10,
     "metadata": {},
     "output_type": "execute_result"
    }
   ],
   "source": [
    "calculate_mode(session[\"inputs\"])"
   ]
  },
  {
   "cell_type": "code",
   "execution_count": null,
   "id": "d58bcf57",
   "metadata": {},
   "outputs": [],
   "source": []
  }
 ],
 "metadata": {
  "kernelspec": {
   "display_name": "Python 3",
   "language": "python",
   "name": "python3"
  },
  "language_info": {
   "codemirror_mode": {
    "name": "ipython",
    "version": 3
   },
   "file_extension": ".py",
   "mimetype": "text/x-python",
   "name": "python",
   "nbconvert_exporter": "python",
   "pygments_lexer": "ipython3",
   "version": "3.8.5"
  }
 },
 "nbformat": 4,
 "nbformat_minor": 5
}
