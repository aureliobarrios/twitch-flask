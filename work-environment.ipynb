{
 "cells": [
  {
   "cell_type": "code",
   "execution_count": 1,
   "id": "59101eaa",
   "metadata": {},
   "outputs": [],
   "source": [
    "import pandas as pd\n",
    "\n",
    "data = pd.read_csv('data/twitch_data.csv')"
   ]
  },
  {
   "cell_type": "code",
   "execution_count": 2,
   "id": "a9d3ccb4",
   "metadata": {},
   "outputs": [],
   "source": [
    "known_streamers = list(data['lower_handles']) + list(data['lower_channel'])"
   ]
  },
  {
   "cell_type": "code",
   "execution_count": 3,
   "id": "1c9dd563",
   "metadata": {},
   "outputs": [],
   "source": [
    "items = \"<datalist id='items'>\""
   ]
  },
  {
   "cell_type": "code",
   "execution_count": 4,
   "id": "bd603275",
   "metadata": {},
   "outputs": [],
   "source": [
    "for streamer in known_streamers:\n",
    "    include_option = \"<option value='\" + streamer + \"'>\"\n",
    "    items += include_option"
   ]
  },
  {
   "cell_type": "code",
   "execution_count": 5,
   "id": "181e5df4",
   "metadata": {},
   "outputs": [],
   "source": [
    "items += \"</datalist>\""
   ]
  },
  {
   "cell_type": "code",
   "execution_count": 6,
   "id": "5bcdeefa",
   "metadata": {},
   "outputs": [],
   "source": [
    "session = {}\n",
    "session[\"inputs\"] = []"
   ]
  },
  {
   "cell_type": "code",
   "execution_count": 7,
   "id": "12911ad1",
   "metadata": {},
   "outputs": [],
   "source": [
    "inputs = [\"XQC\", \"Summit1g\"]\n",
    "\n",
    "for streamer in inputs:\n",
    "    session[\"inputs\"].append(streamer)"
   ]
  },
  {
   "cell_type": "code",
   "execution_count": 9,
   "id": "4302f90a",
   "metadata": {},
   "outputs": [],
   "source": [
    "from processing import calculate_mode"
   ]
  },
  {
   "cell_type": "code",
   "execution_count": 11,
   "id": "c1510fff",
   "metadata": {},
   "outputs": [],
   "source": [
    "results = calculate_mode(session[\"inputs\"])"
   ]
  },
  {
   "cell_type": "code",
   "execution_count": 16,
   "id": "654cae82",
   "metadata": {},
   "outputs": [],
   "source": [
    "index = 1\n",
    "html = ''\n",
    "for streamer in results:\n",
    "    out = '<div class=\"mySlides\"><div class=\"numbertext\">' + str(index) + \" / 5</div>\"\n",
    "    out = out + '<img class=\"stream-img\" src=' + streamer[1] + ' alt=' + streamer[0] + ' title=' + streamer[2]\n",
    "    out = out + ' style=\"width: 30%; height: auto;\"> </div>'\n",
    "    \n",
    "    html = html + ' ' + out\n",
    "    index += 1"
   ]
  },
  {
   "cell_type": "code",
   "execution_count": 17,
   "id": "44a8c226",
   "metadata": {},
   "outputs": [
    {
     "data": {
      "text/plain": [
       "' <div class=\"mySlides\"><div class=\"numbertext\">1 / 5</div><img class=\"stream-img\" src=http://pbs.twimg.com/profile_images/986674209106550784/mbmmyb6Z.jpg alt=shroud title=shroud style=\"width: 30%; height: auto;\"> </div> <div class=\"mySlides\"><div class=\"numbertext\">2 / 5</div><img class=\"stream-img\" src=http://pbs.twimg.com/profile_images/1386897439899127811/X92asQNU.jpg alt=REALMizkif title=Mizkif style=\"width: 30%; height: auto;\"> </div> <div class=\"mySlides\"><div class=\"numbertext\">3 / 5</div><img class=\"stream-img\" src=http://pbs.twimg.com/profile_images/1385522385902653441/oj3QPVTF.jpg alt=Trainwreckstv title=Trainwreckstv style=\"width: 30%; height: auto;\"> </div> <div class=\"mySlides\"><div class=\"numbertext\">4 / 5</div><img class=\"stream-img\" src=http://pbs.twimg.com/profile_images/804591156491419649/BnUUh5KE.jpg alt=Asmongold title=Asmongold style=\"width: 30%; height: auto;\"> </div> <div class=\"mySlides\"><div class=\"numbertext\">5 / 5</div><img class=\"stream-img\" src=http://pbs.twimg.com/profile_images/1437132459884351495/6ZLcAiB3.jpg alt=Greekgodx title=Greekgodx style=\"width: 30%; height: auto;\"> </div>'"
      ]
     },
     "execution_count": 17,
     "metadata": {},
     "output_type": "execute_result"
    }
   ],
   "source": [
    "html"
   ]
  },
  {
   "cell_type": "code",
   "execution_count": null,
   "id": "d07e5668",
   "metadata": {},
   "outputs": [],
   "source": []
  }
 ],
 "metadata": {
  "kernelspec": {
   "display_name": "Python 3",
   "language": "python",
   "name": "python3"
  },
  "language_info": {
   "codemirror_mode": {
    "name": "ipython",
    "version": 3
   },
   "file_extension": ".py",
   "mimetype": "text/x-python",
   "name": "python",
   "nbconvert_exporter": "python",
   "pygments_lexer": "ipython3",
   "version": "3.8.5"
  }
 },
 "nbformat": 4,
 "nbformat_minor": 5
}
